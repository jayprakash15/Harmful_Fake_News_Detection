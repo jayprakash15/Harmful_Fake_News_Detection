{
 "cells": [
  {
   "cell_type": "markdown",
   "id": "ab70c2ab",
   "metadata": {},
   "source": [
    "# Model Building"
   ]
  },
  {
   "cell_type": "code",
   "execution_count": 1,
   "id": "2441b7e3",
   "metadata": {},
   "outputs": [],
   "source": [
    "import pandas as pd\n",
    "import numpy as np"
   ]
  },
  {
   "cell_type": "code",
   "execution_count": 2,
   "id": "fb8aaaef",
   "metadata": {},
   "outputs": [],
   "source": [
    "Data = pd.read_csv(\"Preprocessed_Data.csv\")"
   ]
  },
  {
   "cell_type": "code",
   "execution_count": 3,
   "id": "9c53d973",
   "metadata": {},
   "outputs": [
    {
     "data": {
      "image/png": "[encoded data removed]",
      "text/plain": [
       "<Figure size 864x432 with 1 Axes>"
      ]
     },
     "metadata": {
      "needs_background": "light"
     },
     "output_type": "display_data"
    }
   ],
   "source": [
    "import matplotlib.pyplot as plt\n",
    "import seaborn as sns\n",
    "\n",
    "plt.figure(figsize=(12, 6))\n",
    "#sns.countplot(data= Train_Data, x=\"sentiment\", hue=\"reviewerName\")\n",
    "sns.countplot(data= Data, x=\"label\")\n",
    "plt.title(\"Count Plot for labels in original dataset\")\n",
    "plt.show()"
   ]
  },
  {
   "cell_type": "code",
   "execution_count": 4,
   "id": "96e9a9a3",
   "metadata": {},
   "outputs": [],
   "source": [
    "X = Data.drop(columns= [\"title\", \"text\", \"subject\", \"date\",\"label\"], axis= 1)\n",
    "y = Data[\"label\"]"
   ]
  },
  {
   "cell_type": "code",
   "execution_count": 5,
   "id": "65068bd8",
   "metadata": {},
   "outputs": [
    {
     "data": {
      "text/plain": [
       "((35416, 51), (8855, 51), (35416,), (8855,))"
      ]
     },
     "execution_count": 5,
     "metadata": {},
     "output_type": "execute_result"
    }
   ],
   "source": [
    "from sklearn.model_selection import train_test_split\n",
    "\n",
    "X_train, X_test, y_train, y_test = train_test_split(X, y, test_size= 0.2, random_state= 5)\n",
    "\n",
    "X_train.shape, X_test.shape, y_train.shape, y_test.shape"
   ]
  },
  {
   "cell_type": "code",
   "execution_count": 6,
   "id": "586383b5",
   "metadata": {},
   "outputs": [
    {
     "data": {
      "text/plain": [
       "Fake    18322\n",
       "Real    17094\n",
       "Name: label, dtype: int64"
      ]
     },
     "execution_count": 6,
     "metadata": {},
     "output_type": "execute_result"
    }
   ],
   "source": [
    "y_train.value_counts()"
   ]
  },
  {
   "cell_type": "code",
   "execution_count": 7,
   "id": "a54b3699",
   "metadata": {},
   "outputs": [
    {
     "data": {
      "text/plain": [
       "Fake    4533\n",
       "Real    4322\n",
       "Name: label, dtype: int64"
      ]
     },
     "execution_count": 7,
     "metadata": {},
     "output_type": "execute_result"
    }
   ],
   "source": [
    "y_test.value_counts()"
   ]
  },
  {
   "cell_type": "code",
   "execution_count": 8,
   "id": "f1f31f59",
   "metadata": {},
   "outputs": [],
   "source": [
    "from sklearn.metrics import confusion_matrix\n",
    "from sklearn.metrics import classification_report\n",
    "# classification_report()\n",
    "\n",
    "def Classification_Model_Adequacy(y_val, val_predictions):\n",
    "    # Calculate the confusion matrix\n",
    "    cm = confusion_matrix(y_val, val_predictions)\n",
    "\n",
    "    # Create a DataFrame from the confusion matrix\n",
    "    cm_df = pd.DataFrame(cm, index=['True 1', 'True 0'], columns=['Predicted 1', 'Predicted 0'])\n",
    "\n",
    "    # Extract the TP, FP, TN, and FN values from the confusion matrix\n",
    "    TN, FP, FN, TP = cm.ravel()\n",
    "\n",
    "    # Print the confusion matrix\n",
    "    print(\"Confusion Matrix:\")\n",
    "    print(cm_df)\n",
    "\n",
    "    print(\"_______________________________________________________________\")\n",
    "\n",
    "    # Calculate the overall accuracy\n",
    "    accuracy = (TP + TN) / (TP + TN + FP + FN)\n",
    "    print(f\"Accuracy: {accuracy}\")\n",
    "\n",
    "    # Calculate precision and recall (sensitivity or true positive rate)\n",
    "    precision = TP / (TP + FP)\n",
    "    recall = TP / (TP + FN)\n",
    "    print(f\"Precision: {precision}\")\n",
    "    print(f\"Recall: {recall}\")\n",
    "\n",
    "    # Calculate specificity (true negative rate)\n",
    "    specificity = TN / (TN + FP)\n",
    "    print(f\"Specificity: {specificity}\")\n",
    "\n",
    "    # Calculate F1 score (harmonic mean of precision and recall)\n",
    "    f1_score = 2 * (precision * recall) / (precision + recall)\n",
    "    print(f\"F1 Score: {f1_score}\")"
   ]
  },
  {
   "cell_type": "code",
   "execution_count": 9,
   "id": "ba13ed10",
   "metadata": {},
   "outputs": [],
   "source": [
    "import seaborn as sns\n",
    "import matplotlib.pyplot as plt\n",
    "from sklearn.metrics import confusion_matrix\n",
    "\n",
    "def plot_confusion_matrix(true_labels, predicted_labels, labels=None):\n",
    "    \"\"\"\n",
    "    Plot the confusion matrix as a heatmap.\n",
    "\n",
    "    Parameters:\n",
    "        true_labels (array-like): True labels of the data.\n",
    "        predicted_labels (array-like): Predicted labels from the model.\n",
    "        labels (list or array-like, optional): List of class labels to be used for plotting.\n",
    "\n",
    "    Returns:\n",
    "        None (displays the plot)\n",
    "    \"\"\"\n",
    "    # Compute the confusion matrix\n",
    "    cm = confusion_matrix(true_labels, predicted_labels)\n",
    "\n",
    "    # Get the class labels\n",
    "    if labels is None:\n",
    "        labels = list(set(true_labels) | set(predicted_labels))\n",
    "\n",
    "    # Plot the confusion matrix as a heatmap\n",
    "    plt.figure(figsize=(8, 6))\n",
    "    sns.heatmap(cm, annot=True, fmt='d', cmap='Blues', xticklabels=labels, yticklabels=labels)\n",
    "    plt.xlabel('Predicted Labels')\n",
    "    plt.ylabel('True Labels')\n",
    "    plt.title('Confusion Matrix')\n",
    "    plt.show()"
   ]
  },
  {
   "cell_type": "raw",
   "id": "45dacada",
   "metadata": {},
   "source": [
    "import seaborn as sns\n",
    "import matplotlib.pyplot as plt\n",
    "from sklearn.metrics import confusion_matrix\n",
    "\n",
    "def plot_confusion_matrix(true_labels, predicted_labels, labels=None):\n",
    "    \"\"\"\n",
    "    Plot the confusion matrix as a heatmap.\n",
    "\n",
    "    Parameters:\n",
    "        true_labels (array-like): True labels of the data.\n",
    "        predicted_labels (array-like): Predicted labels from the model.\n",
    "        labels (list or array-like, optional): List of class labels to be used for plotting.\n",
    "\n",
    "    Returns:\n",
    "        None (displays the plot)\n",
    "    \"\"\"\n",
    "    # Compute the confusion matrix\n",
    "    cm = confusion_matrix(true_labels, predicted_labels)\n",
    "\n",
    "    # Get the class labels\n",
    "    if labels is None:\n",
    "        labels = list(set(true_labels) | set(predicted_labels))\n",
    "\n",
    "    # Normalize the confusion matrix by dividing each element by the number of samples\n",
    "    cm_norm = cm.astype('float') / cm.sum(axis=1) * 100\n",
    "\n",
    "    # Plot the confusion matrix as a heatmap\n",
    "    plt.figure(figsize=(8, 6))\n",
    "    sns.heatmap(cm_norm, annot=True, fmt='.2f', cmap='Blues', xticklabels=labels, yticklabels=labels)\n",
    "    plt.xlabel('Predicted Labels')\n",
    "    plt.ylabel('True Labels')\n",
    "    plt.title('Confusion Matrix')\n",
    "    plt.show()\n"
   ]
  },
  {
   "cell_type": "markdown",
   "id": "4ce3c0aa",
   "metadata": {},
   "source": [
    "# Comparing Different models"
   ]
  },
  {
   "cell_type": "code",
   "execution_count": 10,
   "id": "fa67f0ef",
   "metadata": {},
   "outputs": [
    {
     "name": "stdout",
     "output_type": "stream",
     "text": [
      "Test Accuracy (logistic): 0.9245623941276115\n",
      "______________________________________________________________\n"
     ]
    },
    {
     "name": "stderr",
     "output_type": "stream",
     "text": [
      "C:\\Users\\jaypr\\AppData\\Local\\Programs\\Python\\Python310\\lib\\site-packages\\sklearn\\linear_model\\_logistic.py:444: ConvergenceWarning: lbfgs failed to converge (status=1):\n",
      "STOP: TOTAL NO. of ITERATIONS REACHED LIMIT.\n",
      "\n",
      "Increase the number of iterations (max_iter) or scale the data as shown in:\n",
      "    https://scikit-learn.org/stable/modules/preprocessing.html\n",
      "Please also refer to the documentation for alternative solver options:\n",
      "    https://scikit-learn.org/stable/modules/linear_model.html#logistic-regression\n",
      "  n_iter_i = _check_optimize_result(\n"
     ]
    },
    {
     "data": {
      "image/png": "[encoded data removed]",
      "text/plain": [
       "<Figure size 576x432 with 2 Axes>"
      ]
     },
     "metadata": {
      "needs_background": "light"
     },
     "output_type": "display_data"
    },
    {
     "name": "stdout",
     "output_type": "stream",
     "text": [
      "              precision    recall  f1-score   support\n",
      "\n",
      "        Fake       0.92      0.93      0.93      4533\n",
      "        Real       0.93      0.92      0.92      4322\n",
      "\n",
      "    accuracy                           0.92      8855\n",
      "   macro avg       0.92      0.92      0.92      8855\n",
      "weighted avg       0.92      0.92      0.92      8855\n",
      "\n",
      "______________________________________________________________\n",
      "CPU times: total: 1.45 s\n",
      "Wall time: 862 ms\n"
     ]
    }
   ],
   "source": [
    "%%time\n",
    "\n",
    "from sklearn.linear_model import LogisticRegression\n",
    "from sklearn.metrics import accuracy_score\n",
    "\n",
    "# Train a logistic regression model\n",
    "# logreg_classifier = LogisticRegression(penalty = 'l2', solver = 'sag')\n",
    "logreg_classifier = LogisticRegression()\n",
    "logreg_classifier.fit(X_train, y_train)\n",
    "\n",
    "# Make predictions on the test set\n",
    "test_predictions_log = logreg_classifier.predict(X_test)\n",
    "\n",
    "# Calculate accuracy\n",
    "accuracy_log = accuracy_score(y_test, test_predictions_log)\n",
    "print(f\"Test Accuracy (logistic): {accuracy_log}\")\n",
    "\n",
    "print(\"______________________________________________________________\")\n",
    "\n",
    "# Print classification report for precision, recall, f1-score, support\n",
    "# Classification_Model_Adequacy(y_val, val_predictions_log)\n",
    "plot_confusion_matrix(y_test, test_predictions_log)\n",
    "print(classification_report(y_test, test_predictions_log))\n",
    "\n",
    "print(\"______________________________________________________________\")"
   ]
  },
  {
   "cell_type": "code",
   "execution_count": 11,
   "id": "be3f44e9",
   "metadata": {},
   "outputs": [
    {
     "name": "stdout",
     "output_type": "stream",
     "text": [
      "Test Accuracy (random forest): 0.9087521174477696\n",
      "______________________________________________________________\n"
     ]
    },
    {
     "data": {
      "image/png": "[encoded data removed]",
      "text/plain": [
       "<Figure size 576x432 with 2 Axes>"
      ]
     },
     "metadata": {
      "needs_background": "light"
     },
     "output_type": "display_data"
    },
    {
     "name": "stdout",
     "output_type": "stream",
     "text": [
      "              precision    recall  f1-score   support\n",
      "\n",
      "        Fake       0.92      0.89      0.91      4533\n",
      "        Real       0.89      0.92      0.91      4322\n",
      "\n",
      "    accuracy                           0.91      8855\n",
      "   macro avg       0.91      0.91      0.91      8855\n",
      "weighted avg       0.91      0.91      0.91      8855\n",
      "\n",
      "______________________________________________________________\n",
      "CPU times: total: 8.11 s\n",
      "Wall time: 8.27 s\n"
     ]
    }
   ],
   "source": [
    "%%time\n",
    "\n",
    "# Import libraries\n",
    "from sklearn.ensemble import RandomForestClassifier\n",
    "from sklearn.metrics import accuracy_score\n",
    "\n",
    "# Create Random Forest classifier\n",
    "rf_classifier = RandomForestClassifier(n_estimators=100, max_depth=5, random_state=5)\n",
    "\n",
    "# Train the model\n",
    "rf_classifier.fit(X_train, y_train)\n",
    "\n",
    "# Make predictions on the test set\n",
    "test_predictions_rf = rf_classifier.predict(X_test)\n",
    "\n",
    "# Calculate accuracy on the test set\n",
    "accuracy_rf = accuracy_score(y_test, test_predictions_rf)\n",
    "print(f\"Test Accuracy (random forest): {accuracy_rf}\")\n",
    "\n",
    "print(\"______________________________________________________________\")\n",
    "\n",
    "# Print classification report for precision, recall, f1-score, support\n",
    "# Classification_Model_Adequacy(y_test,test_predictions_rf)\n",
    "plot_confusion_matrix(y_test, test_predictions_rf)\n",
    "print(classification_report(y_test, test_predictions_rf))\n",
    "\n",
    "print(\"______________________________________________________________\")"
   ]
  },
  {
   "cell_type": "code",
   "execution_count": 12,
   "id": "2fd1cd8a",
   "metadata": {},
   "outputs": [
    {
     "name": "stdout",
     "output_type": "stream",
     "text": [
      "Test Accuracy (perceptron): 0.9024280067758329\n",
      "______________________________________________________________\n"
     ]
    },
    {
     "data": {
      "image/png": "[encoded data removed]",
      "text/plain": [
       "<Figure size 576x432 with 2 Axes>"
      ]
     },
     "metadata": {
      "needs_background": "light"
     },
     "output_type": "display_data"
    },
    {
     "name": "stdout",
     "output_type": "stream",
     "text": [
      "              precision    recall  f1-score   support\n",
      "\n",
      "        Fake       0.96      0.85      0.90      4533\n",
      "        Real       0.86      0.96      0.91      4322\n",
      "\n",
      "    accuracy                           0.90      8855\n",
      "   macro avg       0.91      0.90      0.90      8855\n",
      "weighted avg       0.91      0.90      0.90      8855\n",
      "\n",
      "______________________________________________________________\n",
      "CPU times: total: 500 ms\n",
      "Wall time: 508 ms\n"
     ]
    }
   ],
   "source": [
    "%%time\n",
    "\n",
    "# Perceptron Algorithum\n",
    "\n",
    "from sklearn.linear_model import Perceptron\n",
    "from sklearn.metrics import accuracy_score\n",
    "\n",
    "# Create Perceptron classifier\n",
    "perceptron = Perceptron()\n",
    "\n",
    "# Train the model\n",
    "perceptron.fit(X_train, y_train)\n",
    "\n",
    "# Make predictions on the test set\n",
    "test_predictions_perc = perceptron.predict(X_test)\n",
    "\n",
    "# Calculate accuracy on the test set\n",
    "accuracy_perc = accuracy_score(y_test, test_predictions_perc)\n",
    "print(f\"Test Accuracy (perceptron): {accuracy_perc}\")\n",
    "\n",
    "print(\"______________________________________________________________\")\n",
    "\n",
    "# Print classification report for precision, recall, f1-score, support\n",
    "# Classification_Model_Adequacy(y_test, test_predictions_perc)\n",
    "plot_confusion_matrix(y_test, test_predictions_perc)\n",
    "print(classification_report(y_test, test_predictions_perc))\n",
    "\n",
    "print(\"______________________________________________________________\")"
   ]
  },
  {
   "cell_type": "code",
   "execution_count": 13,
   "id": "157ffc5a",
   "metadata": {},
   "outputs": [
    {
     "name": "stdout",
     "output_type": "stream",
     "text": [
      "Test Accuracy (SVC): 0.8755505364201016\n",
      "______________________________________________________________\n"
     ]
    },
    {
     "data": {
      "image/png": "[encoded data removed]",
      "text/plain": [
       "<Figure size 576x432 with 2 Axes>"
      ]
     },
     "metadata": {
      "needs_background": "light"
     },
     "output_type": "display_data"
    },
    {
     "name": "stdout",
     "output_type": "stream",
     "text": [
      "              precision    recall  f1-score   support\n",
      "\n",
      "        Fake       0.84      0.94      0.89      4533\n",
      "        Real       0.92      0.81      0.86      4322\n",
      "\n",
      "    accuracy                           0.88      8855\n",
      "   macro avg       0.88      0.87      0.87      8855\n",
      "weighted avg       0.88      0.88      0.87      8855\n",
      "\n",
      "______________________________________________________________\n",
      "CPU times: total: 6min 39s\n",
      "Wall time: 6min 39s\n"
     ]
    }
   ],
   "source": [
    "%%time\n",
    "\n",
    "from sklearn.svm import SVC\n",
    "from sklearn.metrics import accuracy_score, classification_report\n",
    "\n",
    "# Create Linear Support Vector Classifier (LinearSVC)\n",
    "svc_classifier = SVC(random_state=5)\n",
    "\n",
    "# Train the model\n",
    "svc_classifier.fit(X_train, y_train)\n",
    "\n",
    "# Make predictions on the test set\n",
    "test_predictions_svc = svc_classifier.predict(X_test)\n",
    "\n",
    "# Calculate accuracy on the test set\n",
    "accuracy_svc = accuracy_score(y_test, test_predictions_svc)\n",
    "print(f\"Test Accuracy (SVC): {accuracy_svc}\")\n",
    "\n",
    "print(\"______________________________________________________________\")\n",
    "\n",
    "# Print classification report for precision, recall, f1-score, support\n",
    "# Classification_Model_Adequacy(y_test, test_predictions_log)\n",
    "plot_confusion_matrix(y_test, test_predictions_svc)\n",
    "print(classification_report(y_test, test_predictions_svc))\n",
    "\n",
    "print(\"______________________________________________________________\")"
   ]
  },
  {
   "cell_type": "code",
   "execution_count": 14,
   "id": "ebdcef70",
   "metadata": {},
   "outputs": [
    {
     "name": "stdout",
     "output_type": "stream",
     "text": [
      "Test Accuracy (GaussianNB): 0.8641445511010728\n",
      "______________________________________________________________\n"
     ]
    },
    {
     "data": {
      "image/png": "[encoded data removed]",
      "text/plain": [
       "<Figure size 576x432 with 2 Axes>"
      ]
     },
     "metadata": {
      "needs_background": "light"
     },
     "output_type": "display_data"
    },
    {
     "name": "stdout",
     "output_type": "stream",
     "text": [
      "              precision    recall  f1-score   support\n",
      "\n",
      "        Fake       0.91      0.82      0.86      4533\n",
      "        Real       0.83      0.91      0.87      4322\n",
      "\n",
      "    accuracy                           0.86      8855\n",
      "   macro avg       0.87      0.87      0.86      8855\n",
      "weighted avg       0.87      0.86      0.86      8855\n",
      "\n",
      "______________________________________________________________\n",
      "CPU times: total: 344 ms\n",
      "Wall time: 335 ms\n"
     ]
    }
   ],
   "source": [
    "%%time\n",
    "\n",
    "# Gaussian Naive Bayes\n",
    "\n",
    "from sklearn.naive_bayes import GaussianNB\n",
    "from sklearn.metrics import accuracy_score\n",
    "\n",
    "# Create Gaussian Naive Bayes classifier\n",
    "gnb = GaussianNB()\n",
    "\n",
    "# Train the model\n",
    "gnb.fit(X_train, y_train)\n",
    "\n",
    "# Make predictions on the test set\n",
    "test_predictions_gnb = gnb.predict(X_test)\n",
    "\n",
    "# Calculate accuracy on the test set\n",
    "accuracy_gnb = accuracy_score(y_test, test_predictions_gnb)\n",
    "print(f\"Test Accuracy (GaussianNB): {accuracy_gnb}\")\n",
    "\n",
    "print(\"______________________________________________________________\")\n",
    "\n",
    "# Print classification report for precision, recall, f1-score, support\n",
    "# Classification_Model_Adequacy(y_test, test_predictions_gnb)\n",
    "plot_confusion_matrix(y_test, test_predictions_gnb)\n",
    "print(classification_report(y_test, test_predictions_gnb))\n",
    "\n",
    "print(\"______________________________________________________________\")"
   ]
  },
  {
   "cell_type": "code",
   "execution_count": 15,
   "id": "3a4cc627",
   "metadata": {},
   "outputs": [
    {
     "name": "stdout",
     "output_type": "stream",
     "text": [
      "Test Accuracy (SVC): 0.8584980237154151\n",
      "______________________________________________________________\n"
     ]
    },
    {
     "name": "stderr",
     "output_type": "stream",
     "text": [
      "C:\\Users\\jaypr\\AppData\\Local\\Programs\\Python\\Python310\\lib\\site-packages\\sklearn\\svm\\_base.py:1225: ConvergenceWarning: Liblinear failed to converge, increase the number of iterations.\n",
      "  warnings.warn(\n"
     ]
    },
    {
     "data": {
      "image/png": "[encoded data removed]",
      "text/plain": [
       "<Figure size 576x432 with 2 Axes>"
      ]
     },
     "metadata": {
      "needs_background": "light"
     },
     "output_type": "display_data"
    },
    {
     "name": "stdout",
     "output_type": "stream",
     "text": [
      "              precision    recall  f1-score   support\n",
      "\n",
      "        Fake       0.80      0.96      0.87      4533\n",
      "        Real       0.95      0.75      0.84      4322\n",
      "\n",
      "    accuracy                           0.86      8855\n",
      "   macro avg       0.87      0.86      0.86      8855\n",
      "weighted avg       0.87      0.86      0.86      8855\n",
      "\n",
      "______________________________________________________________\n",
      "CPU times: total: 8.27 s\n",
      "Wall time: 8.27 s\n"
     ]
    }
   ],
   "source": [
    "%%time\n",
    "\n",
    "from sklearn.svm import LinearSVC\n",
    "from sklearn.metrics import accuracy_score, classification_report\n",
    "\n",
    "# Create Linear Support Vector Classifier (LinearSVC)\n",
    "linear_svc_classifier = LinearSVC(random_state=5)\n",
    "\n",
    "# Train the model\n",
    "linear_svc_classifier.fit(X_train, y_train)\n",
    "\n",
    "# Make predictions on the test set\n",
    "test_predictions_linear_svc = linear_svc_classifier.predict(X_test)\n",
    "\n",
    "# Calculate accuracy on the test set\n",
    "accuracy_linear_svc = accuracy_score(y_test, test_predictions_linear_svc)\n",
    "print(f\"Test Accuracy (SVC): {accuracy_linear_svc}\")\n",
    "\n",
    "print(\"______________________________________________________________\")\n",
    "\n",
    "# Print classification report for precision, recall, f1-score, support\n",
    "# Classification_Model_Adequacy(y_test, test_predictions_log)\n",
    "plot_confusion_matrix(y_test, test_predictions_linear_svc)\n",
    "print(classification_report(y_test, test_predictions_linear_svc))\n",
    "\n",
    "print(\"______________________________________________________________\")"
   ]
  },
  {
   "cell_type": "code",
   "execution_count": 16,
   "id": "e5703372",
   "metadata": {},
   "outputs": [
    {
     "name": "stdout",
     "output_type": "stream",
     "text": [
      "Test Accuracy (SGD): 0.8254093732354602\n",
      "______________________________________________________________\n"
     ]
    },
    {
     "data": {
      "image/png": "[encoded data removed]",
      "text/plain": [
       "<Figure size 576x432 with 2 Axes>"
      ]
     },
     "metadata": {
      "needs_background": "light"
     },
     "output_type": "display_data"
    },
    {
     "name": "stdout",
     "output_type": "stream",
     "text": [
      "              precision    recall  f1-score   support\n",
      "\n",
      "        Fake       0.96      0.69      0.80      4533\n",
      "        Real       0.75      0.97      0.84      4322\n",
      "\n",
      "    accuracy                           0.83      8855\n",
      "   macro avg       0.85      0.83      0.82      8855\n",
      "weighted avg       0.85      0.83      0.82      8855\n",
      "\n",
      "______________________________________________________________\n",
      "CPU times: total: 1.27 s\n",
      "Wall time: 1.27 s\n"
     ]
    }
   ],
   "source": [
    "%%time\n",
    "\n",
    "# SGD Classifier\n",
    "\n",
    "from sklearn.linear_model import SGDClassifier\n",
    "from sklearn.metrics import accuracy_score\n",
    "\n",
    "# We can try different loss function modified_huber, hinge, log, squared_hinge, perceptron\n",
    "\n",
    "# Create SGD Classifier classifier\n",
    "sgd_classifier = SGDClassifier(loss='hinge', max_iter=750, random_state=5)\n",
    "\n",
    "# Train the model\n",
    "sgd_classifier.fit(X_train, y_train)\n",
    "\n",
    "# Make predictions on the test set\n",
    "test_predictions_sgd = sgd_classifier.predict(X_test)\n",
    "\n",
    "# Calculate accuracy on the test set\n",
    "accuracy_sgd = accuracy_score(y_test, test_predictions_sgd)\n",
    "print(f\"Test Accuracy (SGD): {accuracy_sgd}\")\n",
    "\n",
    "print(\"______________________________________________________________\")\n",
    "\n",
    "# Print classification report for precision, recall, f1-score, support\n",
    "# Classification_Model_Adequacy(y_test, test_predictions_sgd)\n",
    "plot_confusion_matrix(y_test, test_predictions_sgd)\n",
    "print(classification_report(y_test, test_predictions_sgd))\n",
    "\n",
    "print(\"______________________________________________________________\")"
   ]
  },
  {
   "cell_type": "code",
   "execution_count": 17,
   "id": "3d42f52b",
   "metadata": {},
   "outputs": [
    {
     "name": "stdout",
     "output_type": "stream",
     "text": [
      "Test Accuracy (GaussianNB): 0.6058723884810842\n",
      "______________________________________________________________\n"
     ]
    },
    {
     "data": {
      "image/png": "[encoded data removed]",
      "text/plain": [
       "<Figure size 576x432 with 2 Axes>"
      ]
     },
     "metadata": {
      "needs_background": "light"
     },
     "output_type": "display_data"
    },
    {
     "name": "stdout",
     "output_type": "stream",
     "text": [
      "              precision    recall  f1-score   support\n",
      "\n",
      "        Fake       0.61      0.63      0.62      4533\n",
      "        Real       0.60      0.58      0.59      4322\n",
      "\n",
      "    accuracy                           0.61      8855\n",
      "   macro avg       0.61      0.61      0.61      8855\n",
      "weighted avg       0.61      0.61      0.61      8855\n",
      "\n",
      "______________________________________________________________\n"
     ]
    }
   ],
   "source": [
    "# %%time\n",
    "\n",
    "# Gaussian Naive Bayes\n",
    "\n",
    "from sklearn.naive_bayes import MultinomialNB\n",
    "from sklearn.metrics import accuracy_score\n",
    "\n",
    "# Create Gaussian Naive Bayes classifier\n",
    "mnb = MultinomialNB()\n",
    "\n",
    "# Train the model\n",
    "mnb.fit(X_train.abs(), y_train)\n",
    "\n",
    "# Make predictions on the test set\n",
    "test_predictions_mnb = mnb.predict(X_test.abs())\n",
    "\n",
    "# Calculate accuracy on the test set\n",
    "accuracy_mnb = accuracy_score(y_test, test_predictions_mnb)\n",
    "print(f\"Test Accuracy (GaussianNB): {accuracy_mnb}\")\n",
    "\n",
    "print(\"______________________________________________________________\")\n",
    "\n",
    "# Print classification report for precision, recall, f1-score, support\n",
    "# Classification_Model_Adequacy(y_test, test_predictions_mnb)\n",
    "plot_confusion_matrix(y_test, test_predictions_mnb)\n",
    "print(classification_report(y_test, test_predictions_mnb))\n",
    "\n",
    "print(\"______________________________________________________________\")"
   ]
  },
  {
   "cell_type": "code",
   "execution_count": 18,
   "id": "2aa3bab7",
   "metadata": {},
   "outputs": [
    {
     "data": {
      "image/png": "[encoded data removed]",
      "text/plain": [
       "<Figure size 720x432 with 1 Axes>"
      ]
     },
     "metadata": {
      "needs_background": "light"
     },
     "output_type": "display_data"
    }
   ],
   "source": [
    "import matplotlib.pyplot as plt\n",
    "\n",
    "# List of model names\n",
    "model_names = ['Logistic', \"Random Forest\", 'Perceptron', 'SGD Classifier', \"SVC\", 'Linear SVC', 'Gaussian NB', \"Multinomial NB\"]\n",
    "\n",
    "# List of accuracy values corresponding to each model\n",
    "accuracy_values = [accuracy_log, accuracy_rf, accuracy_perc, accuracy_sgd, accuracy_svc, accuracy_linear_svc, accuracy_gnb, accuracy_mnb]\n",
    "\n",
    "# Plot the bar graph\n",
    "plt.figure(figsize=(10, 6))\n",
    "plt.bar(model_names, accuracy_values, color='skyblue')\n",
    "plt.xlabel('Model')\n",
    "plt.ylabel('Accuracy')\n",
    "plt.title('Accuracy of Different Models')\n",
    "plt.ylim(0, 1)  # Set the y-axis range from 0 to 1\n",
    "plt.grid(axis='y', linestyle='--', alpha=0.7)\n",
    "plt.show()"
   ]
  },
  {
   "cell_type": "code",
   "execution_count": 19,
   "id": "e8a21d08",
   "metadata": {},
   "outputs": [],
   "source": [
    "import numpy as np\n",
    "import matplotlib.pyplot as plt\n",
    "from sklearn.metrics import roc_curve, auc\n",
    "\n",
    "def plot_roc_curve_for_model(best_model, X_test, y_test):\n",
    "    # Get confidence scores using decision_function\n",
    "    conf_scores = best_model.decision_function(X_test)\n",
    "\n",
    "    # Convert confidence scores to probabilities using the sigmoid function\n",
    "    probs_positive_class = 1 / (1 + np.exp(-conf_scores))\n",
    "\n",
    "    # Convert string labels to numeric values (0 for 'Real' and 1 for 'Fake')\n",
    "    y_test_numeric = y_test.replace({'Fake': 0, 'Real': 1})\n",
    "\n",
    "    # Compute ROC curve\n",
    "    fpr, tpr, thresholds = roc_curve(y_test_numeric, probs_positive_class)\n",
    "\n",
    "    # Compute the area under the ROC curve (AUC)\n",
    "    roc_auc = auc(fpr, tpr)\n",
    "\n",
    "    # Plot the ROC curve\n",
    "    plt.figure()\n",
    "    plt.plot(fpr, tpr, color='darkorange', lw=2, label=f'ROC curve (AUC = {roc_auc:.2f})')\n",
    "    plt.plot([0, 1], [0, 1], color='navy', lw=2, linestyle='--')\n",
    "    plt.xlabel('False Positive Rate')\n",
    "    plt.ylabel('True Positive Rate')\n",
    "    plt.title('Receiver Operating Characteristic (ROC) Curve')\n",
    "    plt.legend(loc='lower right')\n",
    "    plt.show()"
   ]
  },
  {
   "cell_type": "code",
   "execution_count": 20,
   "id": "8d9b540b",
   "metadata": {},
   "outputs": [
    {
     "data": {
      "image/png": "[encoded data removed]",
      "text/plain": [
       "<Figure size 432x288 with 1 Axes>"
      ]
     },
     "metadata": {
      "needs_background": "light"
     },
     "output_type": "display_data"
    }
   ],
   "source": [
    "plot_roc_curve_for_model(logreg_classifier, X_test, y_test)"
   ]
  },
  {
   "cell_type": "raw",
   "id": "c03e1748",
   "metadata": {},
   "source": [
    "plot_roc_curve_for_model(rf_classifier, X_test, y_test)"
   ]
  },
  {
   "cell_type": "code",
   "execution_count": 21,
   "id": "d0c12e67",
   "metadata": {
    "scrolled": true
   },
   "outputs": [
    {
     "name": "stderr",
     "output_type": "stream",
     "text": [
      "C:\\Users\\jaypr\\AppData\\Local\\Temp\\ipykernel_18236\\2867953497.py:10: RuntimeWarning: overflow encountered in exp\n",
      "  probs_positive_class = 1 / (1 + np.exp(-conf_scores))\n"
     ]
    },
    {
     "data": {
      "image/png": "[encoded data removed]",
      "text/plain": [
       "<Figure size 432x288 with 1 Axes>"
      ]
     },
     "metadata": {
      "needs_background": "light"
     },
     "output_type": "display_data"
    }
   ],
   "source": [
    "plot_roc_curve_for_model(perceptron, X_test, y_test)"
   ]
  },
  {
   "cell_type": "markdown",
   "id": "1f879373",
   "metadata": {},
   "source": [
    "# Hyperparameter Tunning"
   ]
  },
  {
   "cell_type": "code",
   "execution_count": 22,
   "id": "80c0edde",
   "metadata": {},
   "outputs": [
    {
     "name": "stderr",
     "output_type": "stream",
     "text": [
      "C:\\Users\\jaypr\\AppData\\Local\\Programs\\Python\\Python310\\lib\\site-packages\\sklearn\\linear_model\\_sag.py:350: ConvergenceWarning: The max_iter was reached which means the coef_ did not converge\n",
      "  warnings.warn(\n",
      "C:\\Users\\jaypr\\AppData\\Local\\Programs\\Python\\Python310\\lib\\site-packages\\sklearn\\linear_model\\_sag.py:350: ConvergenceWarning: The max_iter was reached which means the coef_ did not converge\n",
      "  warnings.warn(\n",
      "C:\\Users\\jaypr\\AppData\\Local\\Programs\\Python\\Python310\\lib\\site-packages\\sklearn\\linear_model\\_sag.py:350: ConvergenceWarning: The max_iter was reached which means the coef_ did not converge\n",
      "  warnings.warn(\n",
      "C:\\Users\\jaypr\\AppData\\Local\\Programs\\Python\\Python310\\lib\\site-packages\\sklearn\\linear_model\\_sag.py:350: ConvergenceWarning: The max_iter was reached which means the coef_ did not converge\n",
      "  warnings.warn(\n",
      "C:\\Users\\jaypr\\AppData\\Local\\Programs\\Python\\Python310\\lib\\site-packages\\sklearn\\linear_model\\_sag.py:350: ConvergenceWarning: The max_iter was reached which means the coef_ did not converge\n",
      "  warnings.warn(\n",
      "C:\\Users\\jaypr\\AppData\\Local\\Programs\\Python\\Python310\\lib\\site-packages\\sklearn\\linear_model\\_sag.py:350: ConvergenceWarning: The max_iter was reached which means the coef_ did not converge\n",
      "  warnings.warn(\n",
      "C:\\Users\\jaypr\\AppData\\Local\\Programs\\Python\\Python310\\lib\\site-packages\\sklearn\\linear_model\\_sag.py:350: ConvergenceWarning: The max_iter was reached which means the coef_ did not converge\n",
      "  warnings.warn(\n",
      "C:\\Users\\jaypr\\AppData\\Local\\Programs\\Python\\Python310\\lib\\site-packages\\sklearn\\linear_model\\_sag.py:350: ConvergenceWarning: The max_iter was reached which means the coef_ did not converge\n",
      "  warnings.warn(\n",
      "C:\\Users\\jaypr\\AppData\\Local\\Programs\\Python\\Python310\\lib\\site-packages\\sklearn\\linear_model\\_sag.py:350: ConvergenceWarning: The max_iter was reached which means the coef_ did not converge\n",
      "  warnings.warn(\n",
      "C:\\Users\\jaypr\\AppData\\Local\\Programs\\Python\\Python310\\lib\\site-packages\\sklearn\\linear_model\\_sag.py:350: ConvergenceWarning: The max_iter was reached which means the coef_ did not converge\n",
      "  warnings.warn(\n",
      "C:\\Users\\jaypr\\AppData\\Local\\Programs\\Python\\Python310\\lib\\site-packages\\sklearn\\linear_model\\_sag.py:350: ConvergenceWarning: The max_iter was reached which means the coef_ did not converge\n",
      "  warnings.warn(\n",
      "C:\\Users\\jaypr\\AppData\\Local\\Programs\\Python\\Python310\\lib\\site-packages\\sklearn\\linear_model\\_sag.py:350: ConvergenceWarning: The max_iter was reached which means the coef_ did not converge\n",
      "  warnings.warn(\n",
      "C:\\Users\\jaypr\\AppData\\Local\\Programs\\Python\\Python310\\lib\\site-packages\\sklearn\\linear_model\\_sag.py:350: ConvergenceWarning: The max_iter was reached which means the coef_ did not converge\n",
      "  warnings.warn(\n",
      "C:\\Users\\jaypr\\AppData\\Local\\Programs\\Python\\Python310\\lib\\site-packages\\sklearn\\linear_model\\_sag.py:350: ConvergenceWarning: The max_iter was reached which means the coef_ did not converge\n",
      "  warnings.warn(\n",
      "C:\\Users\\jaypr\\AppData\\Local\\Programs\\Python\\Python310\\lib\\site-packages\\sklearn\\linear_model\\_sag.py:350: ConvergenceWarning: The max_iter was reached which means the coef_ did not converge\n",
      "  warnings.warn(\n",
      "C:\\Users\\jaypr\\AppData\\Local\\Programs\\Python\\Python310\\lib\\site-packages\\sklearn\\linear_model\\_sag.py:350: ConvergenceWarning: The max_iter was reached which means the coef_ did not converge\n",
      "  warnings.warn(\n",
      "C:\\Users\\jaypr\\AppData\\Local\\Programs\\Python\\Python310\\lib\\site-packages\\sklearn\\linear_model\\_sag.py:350: ConvergenceWarning: The max_iter was reached which means the coef_ did not converge\n",
      "  warnings.warn(\n",
      "C:\\Users\\jaypr\\AppData\\Local\\Programs\\Python\\Python310\\lib\\site-packages\\sklearn\\linear_model\\_sag.py:350: ConvergenceWarning: The max_iter was reached which means the coef_ did not converge\n",
      "  warnings.warn(\n",
      "C:\\Users\\jaypr\\AppData\\Local\\Programs\\Python\\Python310\\lib\\site-packages\\sklearn\\linear_model\\_sag.py:350: ConvergenceWarning: The max_iter was reached which means the coef_ did not converge\n",
      "  warnings.warn(\n",
      "C:\\Users\\jaypr\\AppData\\Local\\Programs\\Python\\Python310\\lib\\site-packages\\sklearn\\linear_model\\_sag.py:350: ConvergenceWarning: The max_iter was reached which means the coef_ did not converge\n",
      "  warnings.warn(\n",
      "C:\\Users\\jaypr\\AppData\\Local\\Programs\\Python\\Python310\\lib\\site-packages\\sklearn\\linear_model\\_sag.py:350: ConvergenceWarning: The max_iter was reached which means the coef_ did not converge\n",
      "  warnings.warn(\n",
      "C:\\Users\\jaypr\\AppData\\Local\\Programs\\Python\\Python310\\lib\\site-packages\\sklearn\\linear_model\\_sag.py:350: ConvergenceWarning: The max_iter was reached which means the coef_ did not converge\n",
      "  warnings.warn(\n",
      "C:\\Users\\jaypr\\AppData\\Local\\Programs\\Python\\Python310\\lib\\site-packages\\sklearn\\linear_model\\_sag.py:350: ConvergenceWarning: The max_iter was reached which means the coef_ did not converge\n",
      "  warnings.warn(\n",
      "C:\\Users\\jaypr\\AppData\\Local\\Programs\\Python\\Python310\\lib\\site-packages\\sklearn\\linear_model\\_sag.py:350: ConvergenceWarning: The max_iter was reached which means the coef_ did not converge\n",
      "  warnings.warn(\n",
      "C:\\Users\\jaypr\\AppData\\Local\\Programs\\Python\\Python310\\lib\\site-packages\\sklearn\\linear_model\\_sag.py:350: ConvergenceWarning: The max_iter was reached which means the coef_ did not converge\n",
      "  warnings.warn(\n",
      "C:\\Users\\jaypr\\AppData\\Local\\Programs\\Python\\Python310\\lib\\site-packages\\sklearn\\linear_model\\_sag.py:350: ConvergenceWarning: The max_iter was reached which means the coef_ did not converge\n",
      "  warnings.warn(\n",
      "C:\\Users\\jaypr\\AppData\\Local\\Programs\\Python\\Python310\\lib\\site-packages\\sklearn\\linear_model\\_sag.py:350: ConvergenceWarning: The max_iter was reached which means the coef_ did not converge\n",
      "  warnings.warn(\n",
      "C:\\Users\\jaypr\\AppData\\Local\\Programs\\Python\\Python310\\lib\\site-packages\\sklearn\\linear_model\\_sag.py:350: ConvergenceWarning: The max_iter was reached which means the coef_ did not converge\n",
      "  warnings.warn(\n",
      "C:\\Users\\jaypr\\AppData\\Local\\Programs\\Python\\Python310\\lib\\site-packages\\sklearn\\linear_model\\_sag.py:350: ConvergenceWarning: The max_iter was reached which means the coef_ did not converge\n",
      "  warnings.warn(\n",
      "C:\\Users\\jaypr\\AppData\\Local\\Programs\\Python\\Python310\\lib\\site-packages\\sklearn\\linear_model\\_sag.py:350: ConvergenceWarning: The max_iter was reached which means the coef_ did not converge\n",
      "  warnings.warn(\n",
      "C:\\Users\\jaypr\\AppData\\Local\\Programs\\Python\\Python310\\lib\\site-packages\\sklearn\\linear_model\\_logistic.py:444: ConvergenceWarning: lbfgs failed to converge (status=1):\n",
      "STOP: TOTAL NO. of ITERATIONS REACHED LIMIT.\n",
      "\n",
      "Increase the number of iterations (max_iter) or scale the data as shown in:\n",
      "    https://scikit-learn.org/stable/modules/preprocessing.html\n",
      "Please also refer to the documentation for alternative solver options:\n",
      "    https://scikit-learn.org/stable/modules/linear_model.html#logistic-regression\n",
      "  n_iter_i = _check_optimize_result(\n",
      "C:\\Users\\jaypr\\AppData\\Local\\Programs\\Python\\Python310\\lib\\site-packages\\sklearn\\linear_model\\_logistic.py:444: ConvergenceWarning: lbfgs failed to converge (status=1):\n",
      "STOP: TOTAL NO. of ITERATIONS REACHED LIMIT.\n",
      "\n",
      "Increase the number of iterations (max_iter) or scale the data as shown in:\n",
      "    https://scikit-learn.org/stable/modules/preprocessing.html\n",
      "Please also refer to the documentation for alternative solver options:\n",
      "    https://scikit-learn.org/stable/modules/linear_model.html#logistic-regression\n",
      "  n_iter_i = _check_optimize_result(\n",
      "C:\\Users\\jaypr\\AppData\\Local\\Programs\\Python\\Python310\\lib\\site-packages\\sklearn\\linear_model\\_logistic.py:444: ConvergenceWarning: lbfgs failed to converge (status=1):\n",
      "STOP: TOTAL NO. of ITERATIONS REACHED LIMIT.\n",
      "\n",
      "Increase the number of iterations (max_iter) or scale the data as shown in:\n",
      "    https://scikit-learn.org/stable/modules/preprocessing.html\n",
      "Please also refer to the documentation for alternative solver options:\n",
      "    https://scikit-learn.org/stable/modules/linear_model.html#logistic-regression\n",
      "  n_iter_i = _check_optimize_result(\n",
      "C:\\Users\\jaypr\\AppData\\Local\\Programs\\Python\\Python310\\lib\\site-packages\\sklearn\\linear_model\\_logistic.py:444: ConvergenceWarning: lbfgs failed to converge (status=1):\n",
      "STOP: TOTAL NO. of ITERATIONS REACHED LIMIT.\n",
      "\n",
      "Increase the number of iterations (max_iter) or scale the data as shown in:\n",
      "    https://scikit-learn.org/stable/modules/preprocessing.html\n",
      "Please also refer to the documentation for alternative solver options:\n",
      "    https://scikit-learn.org/stable/modules/linear_model.html#logistic-regression\n",
      "  n_iter_i = _check_optimize_result(\n"
     ]
    },
    {
     "name": "stderr",
     "output_type": "stream",
     "text": [
      "C:\\Users\\jaypr\\AppData\\Local\\Programs\\Python\\Python310\\lib\\site-packages\\sklearn\\linear_model\\_logistic.py:444: ConvergenceWarning: lbfgs failed to converge (status=1):\n",
      "STOP: TOTAL NO. of ITERATIONS REACHED LIMIT.\n",
      "\n",
      "Increase the number of iterations (max_iter) or scale the data as shown in:\n",
      "    https://scikit-learn.org/stable/modules/preprocessing.html\n",
      "Please also refer to the documentation for alternative solver options:\n",
      "    https://scikit-learn.org/stable/modules/linear_model.html#logistic-regression\n",
      "  n_iter_i = _check_optimize_result(\n",
      "C:\\Users\\jaypr\\AppData\\Local\\Programs\\Python\\Python310\\lib\\site-packages\\sklearn\\linear_model\\_sag.py:350: ConvergenceWarning: The max_iter was reached which means the coef_ did not converge\n",
      "  warnings.warn(\n",
      "C:\\Users\\jaypr\\AppData\\Local\\Programs\\Python\\Python310\\lib\\site-packages\\sklearn\\linear_model\\_sag.py:350: ConvergenceWarning: The max_iter was reached which means the coef_ did not converge\n",
      "  warnings.warn(\n",
      "C:\\Users\\jaypr\\AppData\\Local\\Programs\\Python\\Python310\\lib\\site-packages\\sklearn\\linear_model\\_sag.py:350: ConvergenceWarning: The max_iter was reached which means the coef_ did not converge\n",
      "  warnings.warn(\n",
      "C:\\Users\\jaypr\\AppData\\Local\\Programs\\Python\\Python310\\lib\\site-packages\\sklearn\\linear_model\\_sag.py:350: ConvergenceWarning: The max_iter was reached which means the coef_ did not converge\n",
      "  warnings.warn(\n",
      "C:\\Users\\jaypr\\AppData\\Local\\Programs\\Python\\Python310\\lib\\site-packages\\sklearn\\linear_model\\_sag.py:350: ConvergenceWarning: The max_iter was reached which means the coef_ did not converge\n",
      "  warnings.warn(\n",
      "C:\\Users\\jaypr\\AppData\\Local\\Programs\\Python\\Python310\\lib\\site-packages\\sklearn\\linear_model\\_logistic.py:444: ConvergenceWarning: lbfgs failed to converge (status=1):\n",
      "STOP: TOTAL NO. of ITERATIONS REACHED LIMIT.\n",
      "\n",
      "Increase the number of iterations (max_iter) or scale the data as shown in:\n",
      "    https://scikit-learn.org/stable/modules/preprocessing.html\n",
      "Please also refer to the documentation for alternative solver options:\n",
      "    https://scikit-learn.org/stable/modules/linear_model.html#logistic-regression\n",
      "  n_iter_i = _check_optimize_result(\n",
      "C:\\Users\\jaypr\\AppData\\Local\\Programs\\Python\\Python310\\lib\\site-packages\\sklearn\\linear_model\\_logistic.py:444: ConvergenceWarning: lbfgs failed to converge (status=1):\n",
      "STOP: TOTAL NO. of ITERATIONS REACHED LIMIT.\n",
      "\n",
      "Increase the number of iterations (max_iter) or scale the data as shown in:\n",
      "    https://scikit-learn.org/stable/modules/preprocessing.html\n",
      "Please also refer to the documentation for alternative solver options:\n",
      "    https://scikit-learn.org/stable/modules/linear_model.html#logistic-regression\n",
      "  n_iter_i = _check_optimize_result(\n",
      "C:\\Users\\jaypr\\AppData\\Local\\Programs\\Python\\Python310\\lib\\site-packages\\sklearn\\linear_model\\_logistic.py:444: ConvergenceWarning: lbfgs failed to converge (status=1):\n",
      "STOP: TOTAL NO. of ITERATIONS REACHED LIMIT.\n",
      "\n",
      "Increase the number of iterations (max_iter) or scale the data as shown in:\n",
      "    https://scikit-learn.org/stable/modules/preprocessing.html\n",
      "Please also refer to the documentation for alternative solver options:\n",
      "    https://scikit-learn.org/stable/modules/linear_model.html#logistic-regression\n",
      "  n_iter_i = _check_optimize_result(\n",
      "C:\\Users\\jaypr\\AppData\\Local\\Programs\\Python\\Python310\\lib\\site-packages\\sklearn\\linear_model\\_logistic.py:444: ConvergenceWarning: lbfgs failed to converge (status=1):\n",
      "STOP: TOTAL NO. of ITERATIONS REACHED LIMIT.\n",
      "\n",
      "Increase the number of iterations (max_iter) or scale the data as shown in:\n",
      "    https://scikit-learn.org/stable/modules/preprocessing.html\n",
      "Please also refer to the documentation for alternative solver options:\n",
      "    https://scikit-learn.org/stable/modules/linear_model.html#logistic-regression\n",
      "  n_iter_i = _check_optimize_result(\n",
      "C:\\Users\\jaypr\\AppData\\Local\\Programs\\Python\\Python310\\lib\\site-packages\\sklearn\\linear_model\\_logistic.py:444: ConvergenceWarning: lbfgs failed to converge (status=1):\n",
      "STOP: TOTAL NO. of ITERATIONS REACHED LIMIT.\n",
      "\n",
      "Increase the number of iterations (max_iter) or scale the data as shown in:\n",
      "    https://scikit-learn.org/stable/modules/preprocessing.html\n",
      "Please also refer to the documentation for alternative solver options:\n",
      "    https://scikit-learn.org/stable/modules/linear_model.html#logistic-regression\n",
      "  n_iter_i = _check_optimize_result(\n",
      "C:\\Users\\jaypr\\AppData\\Local\\Programs\\Python\\Python310\\lib\\site-packages\\sklearn\\linear_model\\_sag.py:350: ConvergenceWarning: The max_iter was reached which means the coef_ did not converge\n",
      "  warnings.warn(\n",
      "C:\\Users\\jaypr\\AppData\\Local\\Programs\\Python\\Python310\\lib\\site-packages\\sklearn\\linear_model\\_sag.py:350: ConvergenceWarning: The max_iter was reached which means the coef_ did not converge\n",
      "  warnings.warn(\n",
      "C:\\Users\\jaypr\\AppData\\Local\\Programs\\Python\\Python310\\lib\\site-packages\\sklearn\\linear_model\\_sag.py:350: ConvergenceWarning: The max_iter was reached which means the coef_ did not converge\n",
      "  warnings.warn(\n",
      "C:\\Users\\jaypr\\AppData\\Local\\Programs\\Python\\Python310\\lib\\site-packages\\sklearn\\linear_model\\_sag.py:350: ConvergenceWarning: The max_iter was reached which means the coef_ did not converge\n",
      "  warnings.warn(\n",
      "C:\\Users\\jaypr\\AppData\\Local\\Programs\\Python\\Python310\\lib\\site-packages\\sklearn\\linear_model\\_sag.py:350: ConvergenceWarning: The max_iter was reached which means the coef_ did not converge\n",
      "  warnings.warn(\n",
      "C:\\Users\\jaypr\\AppData\\Local\\Programs\\Python\\Python310\\lib\\site-packages\\sklearn\\linear_model\\_logistic.py:444: ConvergenceWarning: lbfgs failed to converge (status=1):\n",
      "STOP: TOTAL NO. of ITERATIONS REACHED LIMIT.\n",
      "\n",
      "Increase the number of iterations (max_iter) or scale the data as shown in:\n",
      "    https://scikit-learn.org/stable/modules/preprocessing.html\n",
      "Please also refer to the documentation for alternative solver options:\n",
      "    https://scikit-learn.org/stable/modules/linear_model.html#logistic-regression\n",
      "  n_iter_i = _check_optimize_result(\n",
      "C:\\Users\\jaypr\\AppData\\Local\\Programs\\Python\\Python310\\lib\\site-packages\\sklearn\\linear_model\\_logistic.py:444: ConvergenceWarning: lbfgs failed to converge (status=1):\n",
      "STOP: TOTAL NO. of ITERATIONS REACHED LIMIT.\n",
      "\n",
      "Increase the number of iterations (max_iter) or scale the data as shown in:\n",
      "    https://scikit-learn.org/stable/modules/preprocessing.html\n",
      "Please also refer to the documentation for alternative solver options:\n",
      "    https://scikit-learn.org/stable/modules/linear_model.html#logistic-regression\n",
      "  n_iter_i = _check_optimize_result(\n",
      "C:\\Users\\jaypr\\AppData\\Local\\Programs\\Python\\Python310\\lib\\site-packages\\sklearn\\linear_model\\_logistic.py:444: ConvergenceWarning: lbfgs failed to converge (status=1):\n",
      "STOP: TOTAL NO. of ITERATIONS REACHED LIMIT.\n",
      "\n",
      "Increase the number of iterations (max_iter) or scale the data as shown in:\n",
      "    https://scikit-learn.org/stable/modules/preprocessing.html\n",
      "Please also refer to the documentation for alternative solver options:\n",
      "    https://scikit-learn.org/stable/modules/linear_model.html#logistic-regression\n",
      "  n_iter_i = _check_optimize_result(\n",
      "C:\\Users\\jaypr\\AppData\\Local\\Programs\\Python\\Python310\\lib\\site-packages\\sklearn\\linear_model\\_logistic.py:444: ConvergenceWarning: lbfgs failed to converge (status=1):\n",
      "STOP: TOTAL NO. of ITERATIONS REACHED LIMIT.\n",
      "\n",
      "Increase the number of iterations (max_iter) or scale the data as shown in:\n",
      "    https://scikit-learn.org/stable/modules/preprocessing.html\n",
      "Please also refer to the documentation for alternative solver options:\n",
      "    https://scikit-learn.org/stable/modules/linear_model.html#logistic-regression\n",
      "  n_iter_i = _check_optimize_result(\n",
      "C:\\Users\\jaypr\\AppData\\Local\\Programs\\Python\\Python310\\lib\\site-packages\\sklearn\\linear_model\\_logistic.py:444: ConvergenceWarning: lbfgs failed to converge (status=1):\n",
      "STOP: TOTAL NO. of ITERATIONS REACHED LIMIT.\n",
      "\n",
      "Increase the number of iterations (max_iter) or scale the data as shown in:\n",
      "    https://scikit-learn.org/stable/modules/preprocessing.html\n",
      "Please also refer to the documentation for alternative solver options:\n",
      "    https://scikit-learn.org/stable/modules/linear_model.html#logistic-regression\n",
      "  n_iter_i = _check_optimize_result(\n",
      "C:\\Users\\jaypr\\AppData\\Local\\Programs\\Python\\Python310\\lib\\site-packages\\sklearn\\linear_model\\_sag.py:350: ConvergenceWarning: The max_iter was reached which means the coef_ did not converge\n",
      "  warnings.warn(\n"
     ]
    },
    {
     "name": "stderr",
     "output_type": "stream",
     "text": [
      "C:\\Users\\jaypr\\AppData\\Local\\Programs\\Python\\Python310\\lib\\site-packages\\sklearn\\linear_model\\_sag.py:350: ConvergenceWarning: The max_iter was reached which means the coef_ did not converge\n",
      "  warnings.warn(\n",
      "C:\\Users\\jaypr\\AppData\\Local\\Programs\\Python\\Python310\\lib\\site-packages\\sklearn\\linear_model\\_sag.py:350: ConvergenceWarning: The max_iter was reached which means the coef_ did not converge\n",
      "  warnings.warn(\n",
      "C:\\Users\\jaypr\\AppData\\Local\\Programs\\Python\\Python310\\lib\\site-packages\\sklearn\\linear_model\\_sag.py:350: ConvergenceWarning: The max_iter was reached which means the coef_ did not converge\n",
      "  warnings.warn(\n",
      "C:\\Users\\jaypr\\AppData\\Local\\Programs\\Python\\Python310\\lib\\site-packages\\sklearn\\linear_model\\_sag.py:350: ConvergenceWarning: The max_iter was reached which means the coef_ did not converge\n",
      "  warnings.warn(\n"
     ]
    },
    {
     "name": "stdout",
     "output_type": "stream",
     "text": [
      "Best Hyperparameters: {'C': 0.01, 'max_iter': 300, 'penalty': 'l2', 'solver': 'liblinear'}\n",
      "Accuracy (Logistic Regression): 0.9300959909655562\n",
      "______________________________________________________________\n",
      "              precision    recall  f1-score   support\n",
      "\n",
      "        Fake       0.93      0.93      0.93      4533\n",
      "        Real       0.93      0.93      0.93      4322\n",
      "\n",
      "    accuracy                           0.93      8855\n",
      "   macro avg       0.93      0.93      0.93      8855\n",
      "weighted avg       0.93      0.93      0.93      8855\n",
      "\n",
      "______________________________________________________________\n",
      "CPU times: total: 24min 23s\n",
      "Wall time: 21min 54s\n"
     ]
    }
   ],
   "source": [
    "%%time\n",
    "\n",
    "from sklearn.linear_model import LogisticRegression\n",
    "from sklearn.metrics import accuracy_score, classification_report\n",
    "from sklearn.model_selection import GridSearchCV\n",
    "\n",
    "# Define the hyperparameters to tune\n",
    "param_grid_log = [\n",
    "    {'C': [0.01, 1.0, 10.0],  # Regularization strength values to try\n",
    "    'penalty': ['l1', 'l2'],      # Types of regularization penalties to try\n",
    "    'max_iter': [300],   # Maximum number of iterations to try\n",
    "    'solver': ['liblinear',  'saga'],   # Solvers to try\n",
    "#     'class_weight': ['balanced']\n",
    "    },\n",
    "    \n",
    "    {'C': [0.01, 1.0, 10.0],\n",
    "     'solver': ['lbfgs', 'sag', 'newton-cg'],\n",
    "     'penalty': ['l2'],\n",
    "     'max_iter': [300],\n",
    "#      'class_weight': ['balanced']\n",
    "    }\n",
    "]\n",
    "    \n",
    "# Create Logistic Regression classifier\n",
    "logreg_classifier = LogisticRegression(random_state= 5)\n",
    "\n",
    "# Create GridSearchCV with 5-fold cross-validation\n",
    "grid_search_log = GridSearchCV(logreg_classifier, param_grid_log, cv=5, scoring='accuracy')\n",
    "\n",
    "# Perform the grid search to find the best hyperparameters\n",
    "grid_search_log.fit(X_train, y_train)\n",
    "\n",
    "# Get the best hyperparameters\n",
    "best_params_log = grid_search_log.best_params_\n",
    "print(\"Best Hyperparameters:\", best_params_log)\n",
    "\n",
    "# Use the best model found by GridSearchCV for predictions on the test set\n",
    "best_model_log = grid_search_log.best_estimator_\n",
    "test_predictions_logreg = best_model_log.predict(X_test)\n",
    "\n",
    "# Calculate accuracy on the test set\n",
    "accuracy_log_hyp = accuracy_score(y_test, test_predictions_logreg)\n",
    "print(f\"Accuracy (Logistic Regression): {accuracy_log_hyp}\")\n",
    "\n",
    "print(\"______________________________________________________________\")\n",
    "\n",
    "# Print classification report for precision, recall, f1-score, support\n",
    "print(classification_report(y_test, test_predictions_logreg))\n",
    "\n",
    "print(\"______________________________________________________________\")"
   ]
  },
  {
   "cell_type": "code",
   "execution_count": 23,
   "id": "2e6dd9f0",
   "metadata": {},
   "outputs": [
    {
     "data": {
      "text/plain": [
       "0.9241586152033088"
      ]
     },
     "execution_count": 23,
     "metadata": {},
     "output_type": "execute_result"
    }
   ],
   "source": [
    "grid_search_log.best_score_"
   ]
  },
  {
   "cell_type": "code",
   "execution_count": 24,
   "id": "96c2c2da",
   "metadata": {},
   "outputs": [
    {
     "data": {
      "text/plain": [
       "{'C': 0.01, 'max_iter': 300, 'penalty': 'l2', 'solver': 'liblinear'}"
      ]
     },
     "execution_count": 24,
     "metadata": {},
     "output_type": "execute_result"
    }
   ],
   "source": [
    "grid_search_log.best_params_"
   ]
  },
  {
   "cell_type": "code",
   "execution_count": 25,
   "id": "ac06a48e",
   "metadata": {},
   "outputs": [
    {
     "name": "stdout",
     "output_type": "stream",
     "text": [
      "-0.9232268265774701 {'C': 0.01, 'max_iter': 300, 'penalty': 'l1', 'solver': 'liblinear'}\n",
      "-0.9118760071055524 {'C': 0.01, 'max_iter': 300, 'penalty': 'l1', 'solver': 'saga'}\n",
      "-0.9241586152033088 {'C': 0.01, 'max_iter': 300, 'penalty': 'l2', 'solver': 'liblinear'}\n",
      "-0.9120454228569802 {'C': 0.01, 'max_iter': 300, 'penalty': 'l2', 'solver': 'saga'}\n",
      "-0.9233962184130682 {'C': 1.0, 'max_iter': 300, 'penalty': 'l1', 'solver': 'liblinear'}\n",
      "-0.911988953597152 {'C': 1.0, 'max_iter': 300, 'penalty': 'l1', 'solver': 'saga'}\n",
      "-0.9240456687117092 {'C': 1.0, 'max_iter': 300, 'penalty': 'l2', 'solver': 'liblinear'}\n",
      "-0.9120454268429519 {'C': 1.0, 'max_iter': 300, 'penalty': 'l2', 'solver': 'saga'}\n",
      "-0.9235374015275678 {'C': 10.0, 'max_iter': 300, 'penalty': 'l1', 'solver': 'liblinear'}\n",
      "-0.9120454268429519 {'C': 10.0, 'max_iter': 300, 'penalty': 'l1', 'solver': 'saga'}\n",
      "-0.9240174241168662 {'C': 10.0, 'max_iter': 300, 'penalty': 'l2', 'solver': 'liblinear'}\n",
      "-0.9120454268429519 {'C': 10.0, 'max_iter': 300, 'penalty': 'l2', 'solver': 'saga'}\n",
      "-0.9172690466265407 {'C': 0.01, 'max_iter': 300, 'penalty': 'l2', 'solver': 'lbfgs'}\n",
      "-0.9154620063962089 {'C': 0.01, 'max_iter': 300, 'penalty': 'l2', 'solver': 'sag'}\n",
      "-0.9235656501083825 {'C': 0.01, 'max_iter': 300, 'penalty': 'l2', 'solver': 'newton-cg'}\n",
      "-0.9172690864862568 {'C': 1.0, 'max_iter': 300, 'penalty': 'l2', 'solver': 'lbfgs'}\n",
      "-0.9154620063962089 {'C': 1.0, 'max_iter': 300, 'penalty': 'l2', 'solver': 'sag'}\n",
      "-0.9235938668014244 {'C': 1.0, 'max_iter': 300, 'penalty': 'l2', 'solver': 'newton-cg'}\n",
      "-0.917212613240457 {'C': 10.0, 'max_iter': 300, 'penalty': 'l2', 'solver': 'lbfgs'}\n",
      "-0.9154620063962089 {'C': 10.0, 'max_iter': 300, 'penalty': 'l2', 'solver': 'sag'}\n",
      "-0.9235656301785244 {'C': 10.0, 'max_iter': 300, 'penalty': 'l2', 'solver': 'newton-cg'}\n"
     ]
    }
   ],
   "source": [
    "cvres = grid_search_log.cv_results_\n",
    "for mean_score, params in zip(cvres[\"mean_test_score\"], cvres[\"params\"]):\n",
    "    print(-mean_score, params)"
   ]
  },
  {
   "cell_type": "code",
   "execution_count": 26,
   "id": "80bbb3e2",
   "metadata": {},
   "outputs": [
    {
     "data": {
      "image/png": "[encoded data removed]",
      "text/plain": [
       "<Figure size 432x288 with 1 Axes>"
      ]
     },
     "metadata": {
      "needs_background": "light"
     },
     "output_type": "display_data"
    }
   ],
   "source": [
    "plot_roc_curve_for_model(best_model_log, X_test, y_test)"
   ]
  },
  {
   "cell_type": "code",
   "execution_count": null,
   "id": "1d64ba7c",
   "metadata": {},
   "outputs": [],
   "source": []
  },
  {
   "cell_type": "code",
   "execution_count": 27,
   "id": "144de032",
   "metadata": {},
   "outputs": [
    {
     "name": "stdout",
     "output_type": "stream",
     "text": [
      "Best Hyperparameters for Perceptron: {'alpha': 0.001, 'fit_intercept': True, 'max_iter': 250, 'penalty': 'l1'}\n",
      "Accuracy (Perceptron): 0.9086391869000565\n",
      "______________________________________________________________\n",
      "              precision    recall  f1-score   support\n",
      "\n",
      "        Fake       0.95      0.87      0.91      4533\n",
      "        Real       0.88      0.95      0.91      4322\n",
      "\n",
      "    accuracy                           0.91      8855\n",
      "   macro avg       0.91      0.91      0.91      8855\n",
      "weighted avg       0.91      0.91      0.91      8855\n",
      "\n",
      "______________________________________________________________\n",
      "CPU times: total: 15.6 s\n",
      "Wall time: 15.7 s\n"
     ]
    }
   ],
   "source": [
    "%%time\n",
    "\n",
    "from sklearn.linear_model import Perceptron\n",
    "from sklearn.model_selection import GridSearchCV\n",
    "from sklearn.metrics import accuracy_score, classification_report\n",
    "\n",
    "# Define the hyperparameters to tune for perceptron\n",
    "param_grid_per = {\n",
    "    'penalty': [\"l1\", \"l2\"],\n",
    "    'alpha': [0.001, 0.01, 0.1],\n",
    "#     'max_iter': [250, 500],\n",
    "    'max_iter': [120, 60],\n",
    "    'fit_intercept': [True]\n",
    "}\n",
    "\n",
    "# Create the perceptron classifier\n",
    "per_classifier = Perceptron(random_state= 5)\n",
    "\n",
    "# Perform hyperparameter tuning for perceptron\n",
    "grid_search_per = GridSearchCV(per_classifier, param_grid=param_grid_per, cv=5, scoring='accuracy')\n",
    "\n",
    "# Perform the grid search to find the best hyperparameters\n",
    "grid_search_per.fit(X_train, y_train)\n",
    "\n",
    "# Get the best hyperparameters for perceptron\n",
    "best_params_per = grid_search_per.best_params_\n",
    "print(\"Best Hyperparameters for Perceptron:\", best_params_per)\n",
    "\n",
    "# Use the best model found by GridSearchCV for predictions on the test set\n",
    "best_model_per = grid_search_per.best_estimator_\n",
    "test_predictions_per = best_model_per.predict(X_test)\n",
    "\n",
    "# Calculate accuracy on the test set\n",
    "accuracy_per_hyp = accuracy_score(y_test, test_predictions_per)\n",
    "print(f\"Accuracy (Perceptron): {accuracy_per_hyp}\")\n",
    "\n",
    "print(\"______________________________________________________________\")\n",
    "\n",
    "# Print classification report for precision, recall, f1-score, support\n",
    "print(classification_report(y_test, test_predictions_per))\n",
    "\n",
    "print(\"______________________________________________________________\")"
   ]
  },
  {
   "cell_type": "code",
   "execution_count": 28,
   "id": "950f1038",
   "metadata": {},
   "outputs": [
    {
     "data": {
      "text/plain": [
       "0.8856446547761945"
      ]
     },
     "execution_count": 28,
     "metadata": {},
     "output_type": "execute_result"
    }
   ],
   "source": [
    "grid_search_per.best_score_"
   ]
  },
  {
   "cell_type": "code",
   "execution_count": 29,
   "id": "28677142",
   "metadata": {},
   "outputs": [
    {
     "data": {
      "text/plain": [
       "{'alpha': 0.001, 'fit_intercept': True, 'max_iter': 250, 'penalty': 'l1'}"
      ]
     },
     "execution_count": 29,
     "metadata": {},
     "output_type": "execute_result"
    }
   ],
   "source": [
    "grid_search_per.best_params_"
   ]
  },
  {
   "cell_type": "code",
   "execution_count": 30,
   "id": "5821a6e5",
   "metadata": {},
   "outputs": [
    {
     "name": "stdout",
     "output_type": "stream",
     "text": [
      "-0.8856446547761945 {'alpha': 0.001, 'fit_intercept': True, 'max_iter': 250, 'penalty': 'l1'}\n",
      "-0.4859386520703575 {'alpha': 0.001, 'fit_intercept': True, 'max_iter': 250, 'penalty': 'l2'}\n",
      "-0.8856446547761945 {'alpha': 0.001, 'fit_intercept': True, 'max_iter': 500, 'penalty': 'l1'}\n",
      "-0.4859386520703575 {'alpha': 0.001, 'fit_intercept': True, 'max_iter': 500, 'penalty': 'l2'}\n",
      "-0.8053999870695081 {'alpha': 0.01, 'fit_intercept': True, 'max_iter': 250, 'penalty': 'l1'}\n",
      "-0.515248266640455 {'alpha': 0.01, 'fit_intercept': True, 'max_iter': 250, 'penalty': 'l2'}\n",
      "-0.8053999870695081 {'alpha': 0.01, 'fit_intercept': True, 'max_iter': 500, 'penalty': 'l1'}\n",
      "-0.515248266640455 {'alpha': 0.01, 'fit_intercept': True, 'max_iter': 500, 'penalty': 'l2'}\n",
      "-0.8480902612110833 {'alpha': 0.1, 'fit_intercept': True, 'max_iter': 250, 'penalty': 'l1'}\n",
      "-0.48260673056816916 {'alpha': 0.1, 'fit_intercept': True, 'max_iter': 250, 'penalty': 'l2'}\n",
      "-0.8480902612110833 {'alpha': 0.1, 'fit_intercept': True, 'max_iter': 500, 'penalty': 'l1'}\n",
      "-0.48260673056816916 {'alpha': 0.1, 'fit_intercept': True, 'max_iter': 500, 'penalty': 'l2'}\n"
     ]
    }
   ],
   "source": [
    "cvres = grid_search_per.cv_results_\n",
    "for mean_score, params in zip(cvres[\"mean_test_score\"], cvres[\"params\"]):\n",
    "    print(-mean_score, params)"
   ]
  },
  {
   "cell_type": "code",
   "execution_count": 31,
   "id": "ce367a17",
   "metadata": {},
   "outputs": [
    {
     "name": "stderr",
     "output_type": "stream",
     "text": [
      "C:\\Users\\jaypr\\AppData\\Local\\Temp\\ipykernel_18236\\2867953497.py:10: RuntimeWarning: overflow encountered in exp\n",
      "  probs_positive_class = 1 / (1 + np.exp(-conf_scores))\n"
     ]
    },
    {
     "data": {
      "image/png": "[encoded data removed]",
      "text/plain": [
       "<Figure size 432x288 with 1 Axes>"
      ]
     },
     "metadata": {
      "needs_background": "light"
     },
     "output_type": "display_data"
    }
   ],
   "source": [
    "plot_roc_curve_for_model(best_model_per, X_test, y_test)"
   ]
  },
  {
   "cell_type": "code",
   "execution_count": null,
   "id": "836dc280",
   "metadata": {},
   "outputs": [],
   "source": []
  },
  {
   "cell_type": "code",
   "execution_count": 37,
   "id": "c95433b1",
   "metadata": {},
   "outputs": [
    {
     "name": "stderr",
     "output_type": "stream",
     "text": [
      "C:\\Users\\jaypr\\AppData\\Local\\Programs\\Python\\Python310\\lib\\site-packages\\sklearn\\model_selection\\_validation.py:378: FitFailedWarning: \n",
      "80 fits failed out of a total of 240.\n",
      "The score on these train-test partitions for these parameters will be set to nan.\n",
      "If these failures are not expected, you can try to debug them by setting error_score='raise'.\n",
      "\n",
      "Below are more details about the failures:\n",
      "--------------------------------------------------------------------------------\n",
      "80 fits failed with the following error:\n",
      "Traceback (most recent call last):\n",
      "  File \"C:\\Users\\jaypr\\AppData\\Local\\Programs\\Python\\Python310\\lib\\site-packages\\sklearn\\model_selection\\_validation.py\", line 686, in _fit_and_score\n",
      "    estimator.fit(X_train, y_train, **fit_params)\n",
      "  File \"C:\\Users\\jaypr\\AppData\\Local\\Programs\\Python\\Python310\\lib\\site-packages\\sklearn\\ensemble\\_forest.py\", line 476, in fit\n",
      "    trees = Parallel(\n",
      "  File \"C:\\Users\\jaypr\\AppData\\Local\\Programs\\Python\\Python310\\lib\\site-packages\\joblib\\parallel.py\", line 1085, in __call__\n",
      "    if self.dispatch_one_batch(iterator):\n",
      "  File \"C:\\Users\\jaypr\\AppData\\Local\\Programs\\Python\\Python310\\lib\\site-packages\\joblib\\parallel.py\", line 901, in dispatch_one_batch\n",
      "    self._dispatch(tasks)\n",
      "  File \"C:\\Users\\jaypr\\AppData\\Local\\Programs\\Python\\Python310\\lib\\site-packages\\joblib\\parallel.py\", line 819, in _dispatch\n",
      "    job = self._backend.apply_async(batch, callback=cb)\n",
      "  File \"C:\\Users\\jaypr\\AppData\\Local\\Programs\\Python\\Python310\\lib\\site-packages\\joblib\\_parallel_backends.py\", line 208, in apply_async\n",
      "    result = ImmediateResult(func)\n",
      "  File \"C:\\Users\\jaypr\\AppData\\Local\\Programs\\Python\\Python310\\lib\\site-packages\\joblib\\_parallel_backends.py\", line 597, in __init__\n",
      "    self.results = batch()\n",
      "  File \"C:\\Users\\jaypr\\AppData\\Local\\Programs\\Python\\Python310\\lib\\site-packages\\joblib\\parallel.py\", line 288, in __call__\n",
      "    return [func(*args, **kwargs)\n",
      "  File \"C:\\Users\\jaypr\\AppData\\Local\\Programs\\Python\\Python310\\lib\\site-packages\\joblib\\parallel.py\", line 288, in <listcomp>\n",
      "    return [func(*args, **kwargs)\n",
      "  File \"C:\\Users\\jaypr\\AppData\\Local\\Programs\\Python\\Python310\\lib\\site-packages\\sklearn\\utils\\fixes.py\", line 117, in __call__\n",
      "    return self.function(*args, **kwargs)\n",
      "  File \"C:\\Users\\jaypr\\AppData\\Local\\Programs\\Python\\Python310\\lib\\site-packages\\sklearn\\ensemble\\_forest.py\", line 189, in _parallel_build_trees\n",
      "    tree.fit(X, y, sample_weight=curr_sample_weight, check_input=False)\n",
      "  File \"C:\\Users\\jaypr\\AppData\\Local\\Programs\\Python\\Python310\\lib\\site-packages\\sklearn\\tree\\_classes.py\", line 969, in fit\n",
      "    super().fit(\n",
      "  File \"C:\\Users\\jaypr\\AppData\\Local\\Programs\\Python\\Python310\\lib\\site-packages\\sklearn\\tree\\_classes.py\", line 317, in fit\n",
      "    raise ValueError(\n",
      "ValueError: Invalid value for max_features. Allowed string values are 'auto', 'sqrt' or 'log2'.\n",
      "\n",
      "  warnings.warn(some_fits_failed_message, FitFailedWarning)\n",
      "C:\\Users\\jaypr\\AppData\\Local\\Programs\\Python\\Python310\\lib\\site-packages\\sklearn\\model_selection\\_search.py:953: UserWarning: One or more of the test scores are non-finite: [0.94731196 0.94649313 0.93844586 0.93872823        nan        nan\n",
      "        nan        nan 0.94652137 0.94700142 0.93723178 0.93709064\n",
      " 0.93742941 0.93768353 0.93296815 0.93333521        nan        nan\n",
      "        nan        nan 0.93511416 0.93488826 0.93039871 0.9316976\n",
      " 0.94880842 0.94911905 0.93991415 0.93999885        nan        nan\n",
      "        nan        nan 0.94880844 0.94965558 0.93819185 0.93822007\n",
      " 0.94033771 0.94050712 0.93675175 0.93666702        nan        nan\n",
      "        nan        nan 0.93680824 0.93728831 0.93226233 0.93265764]\n",
      "  warnings.warn(\n"
     ]
    },
    {
     "name": "stdout",
     "output_type": "stream",
     "text": [
      "Best Hyperparameters for Random Forests: {'bootstrap': True, 'criterion': 'gini', 'max_depth': None, 'max_features': 0.5, 'min_samples_leaf': 5, 'min_samples_split': 10, 'n_estimators': 100, 'warm_start': False}\n",
      "Accuracy (Random Forests): 0.9534726143421796\n",
      "______________________________________________________________\n",
      "              precision    recall  f1-score   support\n",
      "\n",
      "        Fake       0.96      0.95      0.95      4533\n",
      "        Real       0.95      0.95      0.95      4322\n",
      "\n",
      "    accuracy                           0.95      8855\n",
      "   macro avg       0.95      0.95      0.95      8855\n",
      "weighted avg       0.95      0.95      0.95      8855\n",
      "\n",
      "______________________________________________________________\n"
     ]
    }
   ],
   "source": [
    "%%time\n",
    "\n",
    "from sklearn.ensemble import RandomForestClassifier\n",
    "from sklearn.model_selection import GridSearchCV\n",
    "from sklearn.metrics import accuracy_score, classification_report\n",
    "\n",
    "# Define the hyperparameters to tune for random forests\n",
    "param_grid_rf = {\n",
    "    'n_estimators': [100, 250],\n",
    "    #'max_depth': [None, 10, 15],\n",
    "    'max_depth': [None, 10],\n",
    "    'min_samples_split': [10, 50],\n",
    "    #'min_samples_leaf': [1, 5, 10],\n",
    "    'min_samples_leaf': [5],\n",
    "    #'max_feature': [25, 0.75, \"None\", \"log2\", \"sqrt\", \"auto\"],   # sqrt and auto are the same \n",
    "    'max_features': [0.5, \"None\", \"sqrt\"],\n",
    "    'criterion': [\"gini\", \"entropy\"],\n",
    "    'bootstrap': [True],\n",
    "    'warm_start': [False]\n",
    "}\n",
    "\n",
    "# Create the random forests classifier\n",
    "rf_classifier = RandomForestClassifier(random_state= 5)\n",
    "\n",
    "# Perform hyperparameter tuning for random forests\n",
    "grid_search_rf = GridSearchCV(rf_classifier, param_grid=param_grid_rf, cv=5, scoring='accuracy')\n",
    "\n",
    "# Perform the grid search to find the best hyperparameters\n",
    "grid_search_rf.fit(X_train, y_train)\n",
    "\n",
    "# Get the best hyperparameters for random forests\n",
    "best_params_rf = grid_search_rf.best_params_\n",
    "print(\"Best Hyperparameters for Random Forests:\", best_params_rf)\n",
    "\n",
    "# Use the best model found by GridSearchCV for predictions on the test set\n",
    "best_model_rf = grid_search_rf.best_estimator_\n",
    "test_predictions_rf = best_model_rf.predict(X_test)\n",
    "\n",
    "# Calculate accuracy on the test set\n",
    "accuracy_rf_hyp = accuracy_score(y_test, test_predictions_rf)\n",
    "print(f\"Accuracy (Random Forests): {accuracy_rf_hyp}\")\n",
    "\n",
    "print(\"______________________________________________________________\")\n",
    "\n",
    "# Print classification report for precision, recall, f1-score, support\n",
    "print(classification_report(y_test, test_predictions_rf))\n",
    "\n",
    "print(\"______________________________________________________________\")"
   ]
  },
  {
   "cell_type": "code",
   "execution_count": 38,
   "id": "61263185",
   "metadata": {},
   "outputs": [
    {
     "data": {
      "text/plain": [
       "0.9473119564081388"
      ]
     },
     "execution_count": 38,
     "metadata": {},
     "output_type": "execute_result"
    }
   ],
   "source": [
    "grid_search_rf.best_score_"
   ]
  },
  {
   "cell_type": "code",
   "execution_count": 39,
   "id": "3755fca5",
   "metadata": {},
   "outputs": [
    {
     "data": {
      "text/plain": [
       "{'bootstrap': True,\n",
       " 'criterion': 'gini',\n",
       " 'max_depth': None,\n",
       " 'max_features': 0.5,\n",
       " 'min_samples_leaf': 5,\n",
       " 'min_samples_split': 10,\n",
       " 'n_estimators': 100,\n",
       " 'warm_start': False}"
      ]
     },
     "execution_count": 39,
     "metadata": {},
     "output_type": "execute_result"
    }
   ],
   "source": [
    "grid_search_rf.best_params_"
   ]
  },
  {
   "cell_type": "code",
   "execution_count": 40,
   "id": "16699493",
   "metadata": {},
   "outputs": [
    {
     "name": "stdout",
     "output_type": "stream",
     "text": [
      "-0.9473119564081388 {'bootstrap': True, 'criterion': 'gini', 'max_depth': None, 'max_features': 0.5, 'min_samples_leaf': 5, 'min_samples_split': 10, 'n_estimators': 100, 'warm_start': False}\n",
      "-0.9464931262318148 {'bootstrap': True, 'criterion': 'gini', 'max_depth': None, 'max_features': 0.5, 'min_samples_leaf': 5, 'min_samples_split': 10, 'n_estimators': 250, 'warm_start': False}\n",
      "-0.9384458561161505 {'bootstrap': True, 'criterion': 'gini', 'max_depth': None, 'max_features': 0.5, 'min_samples_leaf': 5, 'min_samples_split': 50, 'n_estimators': 100, 'warm_start': False}\n",
      "-0.9387282343030645 {'bootstrap': True, 'criterion': 'gini', 'max_depth': None, 'max_features': 0.5, 'min_samples_leaf': 5, 'min_samples_split': 50, 'n_estimators': 250, 'warm_start': False}\n",
      "nan {'bootstrap': True, 'criterion': 'gini', 'max_depth': None, 'max_features': 'None', 'min_samples_leaf': 5, 'min_samples_split': 10, 'n_estimators': 100, 'warm_start': False}\n",
      "nan {'bootstrap': True, 'criterion': 'gini', 'max_depth': None, 'max_features': 'None', 'min_samples_leaf': 5, 'min_samples_split': 10, 'n_estimators': 250, 'warm_start': False}\n",
      "nan {'bootstrap': True, 'criterion': 'gini', 'max_depth': None, 'max_features': 'None', 'min_samples_leaf': 5, 'min_samples_split': 50, 'n_estimators': 100, 'warm_start': False}\n",
      "nan {'bootstrap': True, 'criterion': 'gini', 'max_depth': None, 'max_features': 'None', 'min_samples_leaf': 5, 'min_samples_split': 50, 'n_estimators': 250, 'warm_start': False}\n",
      "-0.9465213668406862 {'bootstrap': True, 'criterion': 'gini', 'max_depth': None, 'max_features': 'sqrt', 'min_samples_leaf': 5, 'min_samples_split': 10, 'n_estimators': 100, 'warm_start': False}\n",
      "-0.9470014213177574 {'bootstrap': True, 'criterion': 'gini', 'max_depth': None, 'max_features': 'sqrt', 'min_samples_leaf': 5, 'min_samples_split': 10, 'n_estimators': 250, 'warm_start': False}\n",
      "-0.9372317849667168 {'bootstrap': True, 'criterion': 'gini', 'max_depth': None, 'max_features': 'sqrt', 'min_samples_leaf': 5, 'min_samples_split': 50, 'n_estimators': 100, 'warm_start': False}\n",
      "-0.9370906377259617 {'bootstrap': True, 'criterion': 'gini', 'max_depth': None, 'max_features': 'sqrt', 'min_samples_leaf': 5, 'min_samples_split': 50, 'n_estimators': 250, 'warm_start': False}\n",
      "-0.937429409439243 {'bootstrap': True, 'criterion': 'gini', 'max_depth': 10, 'max_features': 0.5, 'min_samples_leaf': 5, 'min_samples_split': 10, 'n_estimators': 100, 'warm_start': False}\n",
      "-0.9376835310733991 {'bootstrap': True, 'criterion': 'gini', 'max_depth': 10, 'max_features': 0.5, 'min_samples_leaf': 5, 'min_samples_split': 10, 'n_estimators': 250, 'warm_start': False}\n",
      "-0.932968154558122 {'bootstrap': True, 'criterion': 'gini', 'max_depth': 10, 'max_features': 0.5, 'min_samples_leaf': 5, 'min_samples_split': 50, 'n_estimators': 100, 'warm_start': False}\n",
      "-0.9333352147119343 {'bootstrap': True, 'criterion': 'gini', 'max_depth': 10, 'max_features': 0.5, 'min_samples_leaf': 5, 'min_samples_split': 50, 'n_estimators': 250, 'warm_start': False}\n",
      "nan {'bootstrap': True, 'criterion': 'gini', 'max_depth': 10, 'max_features': 'None', 'min_samples_leaf': 5, 'min_samples_split': 10, 'n_estimators': 100, 'warm_start': False}\n",
      "nan {'bootstrap': True, 'criterion': 'gini', 'max_depth': 10, 'max_features': 'None', 'min_samples_leaf': 5, 'min_samples_split': 10, 'n_estimators': 250, 'warm_start': False}\n",
      "nan {'bootstrap': True, 'criterion': 'gini', 'max_depth': 10, 'max_features': 'None', 'min_samples_leaf': 5, 'min_samples_split': 50, 'n_estimators': 100, 'warm_start': False}\n",
      "nan {'bootstrap': True, 'criterion': 'gini', 'max_depth': 10, 'max_features': 'None', 'min_samples_leaf': 5, 'min_samples_split': 50, 'n_estimators': 250, 'warm_start': False}\n",
      "-0.935114161814344 {'bootstrap': True, 'criterion': 'gini', 'max_depth': 10, 'max_features': 'sqrt', 'min_samples_leaf': 5, 'min_samples_split': 10, 'n_estimators': 100, 'warm_start': False}\n",
      "-0.9348882648451733 {'bootstrap': True, 'criterion': 'gini', 'max_depth': 10, 'max_features': 'sqrt', 'min_samples_leaf': 5, 'min_samples_split': 10, 'n_estimators': 250, 'warm_start': False}\n",
      "-0.9303987135515781 {'bootstrap': True, 'criterion': 'gini', 'max_depth': 10, 'max_features': 'sqrt', 'min_samples_leaf': 5, 'min_samples_split': 50, 'n_estimators': 100, 'warm_start': False}\n",
      "-0.9316975982049736 {'bootstrap': True, 'criterion': 'gini', 'max_depth': 10, 'max_features': 'sqrt', 'min_samples_leaf': 5, 'min_samples_split': 50, 'n_estimators': 250, 'warm_start': False}\n",
      "-0.9488084216883731 {'bootstrap': True, 'criterion': 'entropy', 'max_depth': None, 'max_features': 0.5, 'min_samples_leaf': 5, 'min_samples_split': 10, 'n_estimators': 100, 'warm_start': False}\n",
      "-0.9491190524420734 {'bootstrap': True, 'criterion': 'entropy', 'max_depth': None, 'max_features': 0.5, 'min_samples_leaf': 5, 'min_samples_split': 10, 'n_estimators': 250, 'warm_start': False}\n",
      "-0.9399141525350021 {'bootstrap': True, 'criterion': 'entropy', 'max_depth': None, 'max_features': 0.5, 'min_samples_leaf': 5, 'min_samples_split': 50, 'n_estimators': 100, 'warm_start': False}\n",
      "-0.939998850445787 {'bootstrap': True, 'criterion': 'entropy', 'max_depth': None, 'max_features': 0.5, 'min_samples_leaf': 5, 'min_samples_split': 50, 'n_estimators': 250, 'warm_start': False}\n",
      "nan {'bootstrap': True, 'criterion': 'entropy', 'max_depth': None, 'max_features': 'None', 'min_samples_leaf': 5, 'min_samples_split': 10, 'n_estimators': 100, 'warm_start': False}\n",
      "nan {'bootstrap': True, 'criterion': 'entropy', 'max_depth': None, 'max_features': 'None', 'min_samples_leaf': 5, 'min_samples_split': 10, 'n_estimators': 250, 'warm_start': False}\n",
      "nan {'bootstrap': True, 'criterion': 'entropy', 'max_depth': None, 'max_features': 'None', 'min_samples_leaf': 5, 'min_samples_split': 50, 'n_estimators': 100, 'warm_start': False}\n",
      "nan {'bootstrap': True, 'criterion': 'entropy', 'max_depth': None, 'max_features': 'None', 'min_samples_leaf': 5, 'min_samples_split': 50, 'n_estimators': 250, 'warm_start': False}\n",
      "-0.9488084376322595 {'bootstrap': True, 'criterion': 'entropy', 'max_depth': None, 'max_features': 'sqrt', 'min_samples_leaf': 5, 'min_samples_split': 10, 'n_estimators': 100, 'warm_start': False}\n",
      "-0.9496555761789727 {'bootstrap': True, 'criterion': 'entropy', 'max_depth': None, 'max_features': 'sqrt', 'min_samples_leaf': 5, 'min_samples_split': 10, 'n_estimators': 250, 'warm_start': False}\n",
      "-0.9381918500751713 {'bootstrap': True, 'criterion': 'entropy', 'max_depth': None, 'max_features': 'sqrt', 'min_samples_leaf': 5, 'min_samples_split': 50, 'n_estimators': 100, 'warm_start': False}\n",
      "-0.9382200707541848 {'bootstrap': True, 'criterion': 'entropy', 'max_depth': None, 'max_features': 'sqrt', 'min_samples_leaf': 5, 'min_samples_split': 50, 'n_estimators': 250, 'warm_start': False}\n",
      "-0.9403377058644724 {'bootstrap': True, 'criterion': 'entropy', 'max_depth': 10, 'max_features': 0.5, 'min_samples_leaf': 5, 'min_samples_split': 10, 'n_estimators': 100, 'warm_start': False}\n",
      "-0.9405071176299284 {'bootstrap': True, 'criterion': 'entropy', 'max_depth': 10, 'max_features': 0.5, 'min_samples_leaf': 5, 'min_samples_split': 10, 'n_estimators': 250, 'warm_start': False}\n",
      "-0.9367517464335318 {'bootstrap': True, 'criterion': 'entropy', 'max_depth': 10, 'max_features': 0.5, 'min_samples_leaf': 5, 'min_samples_split': 50, 'n_estimators': 100, 'warm_start': False}\n",
      "-0.9366670246069175 {'bootstrap': True, 'criterion': 'entropy', 'max_depth': 10, 'max_features': 0.5, 'min_samples_leaf': 5, 'min_samples_split': 50, 'n_estimators': 250, 'warm_start': False}\n",
      "nan {'bootstrap': True, 'criterion': 'entropy', 'max_depth': 10, 'max_features': 'None', 'min_samples_leaf': 5, 'min_samples_split': 10, 'n_estimators': 100, 'warm_start': False}\n",
      "nan {'bootstrap': True, 'criterion': 'entropy', 'max_depth': 10, 'max_features': 'None', 'min_samples_leaf': 5, 'min_samples_split': 10, 'n_estimators': 250, 'warm_start': False}\n",
      "nan {'bootstrap': True, 'criterion': 'entropy', 'max_depth': 10, 'max_features': 'None', 'min_samples_leaf': 5, 'min_samples_split': 50, 'n_estimators': 100, 'warm_start': False}\n",
      "nan {'bootstrap': True, 'criterion': 'entropy', 'max_depth': 10, 'max_features': 'None', 'min_samples_leaf': 5, 'min_samples_split': 50, 'n_estimators': 250, 'warm_start': False}\n",
      "-0.9368082356232182 {'bootstrap': True, 'criterion': 'entropy', 'max_depth': 10, 'max_features': 'sqrt', 'min_samples_leaf': 5, 'min_samples_split': 10, 'n_estimators': 100, 'warm_start': False}\n",
      "-0.9372883060441758 {'bootstrap': True, 'criterion': 'entropy', 'max_depth': 10, 'max_features': 'sqrt', 'min_samples_leaf': 5, 'min_samples_split': 10, 'n_estimators': 250, 'warm_start': False}\n",
      "-0.9322623346489431 {'bootstrap': True, 'criterion': 'entropy', 'max_depth': 10, 'max_features': 'sqrt', 'min_samples_leaf': 5, 'min_samples_split': 50, 'n_estimators': 100, 'warm_start': False}\n",
      "-0.9326576393975985 {'bootstrap': True, 'criterion': 'entropy', 'max_depth': 10, 'max_features': 'sqrt', 'min_samples_leaf': 5, 'min_samples_split': 50, 'n_estimators': 250, 'warm_start': False}\n"
     ]
    }
   ],
   "source": [
    "cvres = grid_search_rf.cv_results_\n",
    "for mean_score, params in zip(cvres[\"mean_test_score\"], cvres[\"params\"]):\n",
    "    print(-mean_score, params)"
   ]
  },
  {
   "cell_type": "raw",
   "id": "365b84bb",
   "metadata": {},
   "source": [
    "plot_roc_curve_for_model(best_model_rf, X_test, y_test)"
   ]
  },
  {
   "cell_type": "code",
   "execution_count": null,
   "id": "5522440d",
   "metadata": {},
   "outputs": [],
   "source": [
    "# -0.9496555761789727 {'bootstrap': True, 'criterion': 'entropy', 'max_depth': None, 'max_features': 'sqrt', 'min_samples_leaf': 5, 'min_samples_split': 10, 'n_estimators': 250, 'warm_start': False}"
   ]
  },
  {
   "cell_type": "code",
   "execution_count": 41,
   "id": "854c3799",
   "metadata": {},
   "outputs": [
    {
     "data": {
      "text/plain": [
       "array([0.08499118, 0.003083  , 0.00714244, 0.00262285, 0.00939824,\n",
       "       0.00437524, 0.00828263, 0.00487121, 0.00345549, 0.00315604,\n",
       "       0.02158933, 0.01237583, 0.0106069 , 0.00316058, 0.00285243,\n",
       "       0.00300814, 0.00600067, 0.0035792 , 0.00345382, 0.0029605 ,\n",
       "       0.00317469, 0.0044024 , 0.00282081, 0.0066969 , 0.01015023,\n",
       "       0.01255961, 0.00706857, 0.1594646 , 0.00283171, 0.09632054,\n",
       "       0.29580378, 0.00963573, 0.00308663, 0.00336923, 0.00552453,\n",
       "       0.00246562, 0.01281477, 0.00307936, 0.00288283, 0.0032141 ,\n",
       "       0.01724795, 0.00374526, 0.00419885, 0.00746742, 0.04359906,\n",
       "       0.00377893, 0.00252537, 0.01316778, 0.02816758, 0.00567735,\n",
       "       0.02209208])"
      ]
     },
     "execution_count": 41,
     "metadata": {},
     "output_type": "execute_result"
    }
   ],
   "source": [
    "best_model_rf.feature_importances_"
   ]
  },
  {
   "cell_type": "code",
   "execution_count": 42,
   "id": "0a4c051b",
   "metadata": {},
   "outputs": [
    {
     "data": {
      "text/plain": [
       "array(['Unnamed: 0', 'word2vec_1', 'word2vec_2', 'word2vec_3',\n",
       "       'word2vec_4', 'word2vec_5', 'word2vec_6', 'word2vec_7',\n",
       "       'word2vec_8', 'word2vec_9', 'word2vec_10', 'word2vec_11',\n",
       "       'word2vec_12', 'word2vec_13', 'word2vec_14', 'word2vec_15',\n",
       "       'word2vec_16', 'word2vec_17', 'word2vec_18', 'word2vec_19',\n",
       "       'word2vec_20', 'word2vec_21', 'word2vec_22', 'word2vec_23',\n",
       "       'word2vec_24', 'word2vec_25', 'word2vec_26', 'word2vec_27',\n",
       "       'word2vec_28', 'word2vec_29', 'word2vec_30', 'word2vec_31',\n",
       "       'word2vec_32', 'word2vec_33', 'word2vec_34', 'word2vec_35',\n",
       "       'word2vec_36', 'word2vec_37', 'word2vec_38', 'word2vec_39',\n",
       "       'word2vec_40', 'word2vec_41', 'word2vec_42', 'word2vec_43',\n",
       "       'word2vec_44', 'word2vec_45', 'word2vec_46', 'word2vec_47',\n",
       "       'word2vec_48', 'word2vec_49', 'word2vec_50'], dtype=object)"
      ]
     },
     "execution_count": 42,
     "metadata": {},
     "output_type": "execute_result"
    }
   ],
   "source": [
    "best_model_rf.feature_names_in_"
   ]
  },
  {
   "cell_type": "code",
   "execution_count": null,
   "id": "2daacfcd",
   "metadata": {},
   "outputs": [],
   "source": []
  },
  {
   "cell_type": "code",
   "execution_count": null,
   "id": "0e61d40f",
   "metadata": {},
   "outputs": [],
   "source": []
  },
  {
   "cell_type": "code",
   "execution_count": null,
   "id": "31833f40",
   "metadata": {},
   "outputs": [],
   "source": []
  }
 ],
 "metadata": {
  "kernelspec": {
   "display_name": "Python 3 (ipykernel)",
   "language": "python",
   "name": "python3"
  },
  "language_info": {
   "codemirror_mode": {
    "name": "ipython",
    "version": 3
   },
   "file_extension": ".py",
   "mimetype": "text/x-python",
   "name": "python",
   "nbconvert_exporter": "python",
   "pygments_lexer": "ipython3",
   "version": "3.10.4"
  }
 },
 "nbformat": 4,
 "nbformat_minor": 5
}
